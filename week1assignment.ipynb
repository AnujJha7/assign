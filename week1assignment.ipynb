{
  "nbformat": 4,
  "nbformat_minor": 0,
  "metadata": {
    "colab": {
      "name": "week1assignment.ipynb",
      "provenance": [],
      "include_colab_link": true
    },
    "kernelspec": {
      "name": "python3",
      "display_name": "Python 3"
    }
  },
  "cells": [
    {
      "cell_type": "markdown",
      "metadata": {
        "id": "view-in-github",
        "colab_type": "text"
      },
      "source": [
        "<a href=\"https://colab.research.google.com/github/AnujJha7/assign/blob/master/week1assignment.ipynb\" target=\"_parent\"><img src=\"https://colab.research.google.com/assets/colab-badge.svg\" alt=\"Open In Colab\"/></a>"
      ]
    },
    {
      "cell_type": "code",
      "metadata": {
        "id": "F-6bE0dYcBgA",
        "colab_type": "code",
        "colab": {}
      },
      "source": [
        "## Import stuff\n",
        " \n",
        "import numpy as np\n",
        "from sklearn import datasets, linear_model, metrics\n",
        "import matplotlib.pyplot as plt"
      ],
      "execution_count": 0,
      "outputs": []
    },
    {
      "cell_type": "code",
      "metadata": {
        "id": "gK71NIhMcEs5",
        "colab_type": "code",
        "colab": {}
      },
      "source": [
        "## Load the diabetes dataset\n",
        "diabetes = datasets.load_diabetes()\n",
        "diabetes_X = diabetes.data # matrix of dimensions 442x10\n",
        " \n",
        "# Split the data into training/testing sets\n",
        "diabetes_X_train = diabetes_X[:-20]\n",
        "diabetes_X_test = diabetes_X[-20:]\n",
        " \n",
        "# Split the targets into training/testing sets\n",
        "diabetes_y_train = diabetes.target[:-20]\n",
        "diabetes_y_test = diabetes.target[-20:]"
      ],
      "execution_count": 0,
      "outputs": []
    },
    {
      "cell_type": "code",
      "metadata": {
        "id": "XJTg22ybcHsl",
        "colab_type": "code",
        "colab": {
          "base_uri": "https://localhost:8080/",
          "height": 349
        },
        "outputId": "40d94bd1-acad-464c-df53-7876fbc63e24"
      },
      "source": [
        "# train\n",
        " (m,n) = diabetes_X_train.shape\n",
        "X = diabetes_X_train.reshape(n,m)\n",
        "y = diabetes_y_train.reshape(1,m)\n",
        " \n",
        "# train: init\n",
        "W = np.zeros((1,n))\n",
        "b = 0\n",
        "\n",
        "l = 0.001\n",
        "epochs = 10000\n",
        "loss = np.zeros((epochs))\n",
        "# train: gradient descent\n",
        "for i in range(epochs):\n",
        "    # calculate predictions\n",
        "    pred = np.dot(W,X) + b\n",
        " \n",
        "    # calculate error and cost (mean squared error)\n",
        "    error = pred - y\n",
        "    mean_squared_error = 0.5 * np.mean(error**2)\n",
        "    loss[i]=mean_squared_error\n",
        "    # calculate gradients\n",
        "    grad =   error @ X.T \n",
        "    \n",
        "    # update parameters\n",
        "    W= W - l/m*grad\n",
        "    b= b - l * np.mean(error)\n",
        "    # diagnostic output\n",
        "    if i % 5000 == 0: print(\"Epoch %d: %f\" % (i, mean_squared_error))\n",
        "\n",
        "print(W,b)\n",
        "plt.plot(range(epochs),loss)"
      ],
      "execution_count": 47,
      "outputs": [
        {
          "output_type": "stream",
          "text": [
            "Epoch 0: 14734.323460\n",
            "Epoch 5000: 2974.306116\n",
            "[[-0.37870327  0.05815298  0.59757306 -1.68454829 -0.75986813 -0.13340982\n",
            "  -1.57836508  0.27501924 -3.05629599 -0.14150699]] 153.36246512851267\n"
          ],
          "name": "stdout"
        },
        {
          "output_type": "execute_result",
          "data": {
            "text/plain": [
              "[<matplotlib.lines.Line2D at 0x7ff69225cf98>]"
            ]
          },
          "metadata": {
            "tags": []
          },
          "execution_count": 47
        },
        {
          "output_type": "display_data",
          "data": {
            "image/png": "[encoded data removed]",
            "text/plain": [
              "<Figure size 432x288 with 1 Axes>"
            ]
          },
          "metadata": {
            "tags": [],
            "needs_background": "light"
          }
        }
      ]
    },
    {
      "cell_type": "code",
      "metadata": {
        "id": "uvSdTn-0cKJL",
        "colab_type": "code",
        "colab": {
          "base_uri": "https://localhost:8080/",
          "height": 101
        },
        "outputId": "25bef566-c982-4de5-cbcc-cb7c6ee68dde"
      },
      "source": [
        "# test\n",
        "(m,n) = diabetes_X_test.shape\n",
        "X = diabetes_X_test.reshape(n,m)\n",
        "y = diabetes_y_test.reshape(1,m)\n",
        "\n",
        "\n",
        "# calculate predictions + calculate error and cost (same code as above)\n",
        "pred= np.dot(W,X)+b\n",
        "cost = np.mean((pred-y)**2) * 0.5\n",
        "\n",
        "print('Coefficients: \\n', W)\n",
        "print(\"Mean squared error: %.2f\" % cost)\n",
        "print(\"=\"*120)"
      ],
      "execution_count": 48,
      "outputs": [
        {
          "output_type": "stream",
          "text": [
            "Coefficients: \n",
            " [[-0.37870327  0.05815298  0.59757306 -1.68454829 -0.75986813 -0.13340982\n",
            "  -1.57836508  0.27501924 -3.05629599 -0.14150699]]\n",
            "Mean squared error: 2780.57\n",
            "========================================================================================================================\n"
          ],
          "name": "stdout"
        }
      ]
    },
    {
      "cell_type": "code",
      "metadata": {
        "id": "O6oyeqbJABDt",
        "colab_type": "code",
        "colab": {}
      },
      "source": [
        ""
      ],
      "execution_count": 0,
      "outputs": []
    }
  ]
}